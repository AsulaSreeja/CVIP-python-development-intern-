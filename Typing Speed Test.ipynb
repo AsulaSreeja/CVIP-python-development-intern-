{
 "cells": [
  {
   "cell_type": "code",
   "execution_count": 1,
   "id": "0c28d4cc",
   "metadata": {},
   "outputs": [
    {
     "name": "stdout",
     "output_type": "stream",
     "text": [
      "Type the following:\n",
      "The quick brown fox jumps over the lazy dog\n",
      "Press Enter to start...\n",
      "the quick brown fox jumps over the lazy dog\n",
      "You typed 42 characters correctly in 15.81 seconds.\n",
      "Your typing speed is 159.39 characters per minute.\n"
     ]
    }
   ],
   "source": [
    "import time\n",
    "\n",
    "def typing_speed_test():\n",
    "    # Choose a random text for the typing test\n",
    "    text = \"The quick brown fox jumps over the lazy dog\"\n",
    "    \n",
    "    # Display the text to the user\n",
    "    print(\"Type the following:\")\n",
    "    print(text)\n",
    "    \n",
    "    # Wait for the user to press Enter to start the test\n",
    "    input(\"Press Enter to start...\")\n",
    "    \n",
    "    # Record the start time\n",
    "    start_time = time.time()\n",
    "    \n",
    "    # Get user input\n",
    "    user_input = input()\n",
    "    \n",
    "    # Record the end time\n",
    "    end_time = time.time()\n",
    "    \n",
    "    # Calculate the elapsed time in seconds\n",
    "    elapsed_time = end_time - start_time\n",
    "    \n",
    "    # Calculate the number of correct characters\n",
    "    correct_chars = sum(1 for c1, c2 in zip(text, user_input) if c1 == c2)\n",
    "    \n",
    "    # Calculate the typing speed in characters per minute\n",
    "    typing_speed = (correct_chars / elapsed_time) * 60\n",
    "    \n",
    "    # Display the result\n",
    "    print(f\"You typed {correct_chars} characters correctly in {elapsed_time:.2f} seconds.\")\n",
    "    print(f\"Your typing speed is {typing_speed:.2f} characters per minute.\")\n",
    "\n",
    "if __name__ == \"__main__\":\n",
    "    typing_speed_test()\n"
   ]
  },
  {
   "cell_type": "code",
   "execution_count": null,
   "id": "9206de15",
   "metadata": {},
   "outputs": [],
   "source": []
  }
 ],
 "metadata": {
  "kernelspec": {
   "display_name": "Python 3 (ipykernel)",
   "language": "python",
   "name": "python3"
  },
  "language_info": {
   "codemirror_mode": {
    "name": "ipython",
    "version": 3
   },
   "file_extension": ".py",
   "mimetype": "text/x-python",
   "name": "python",
   "nbconvert_exporter": "python",
   "pygments_lexer": "ipython3",
   "version": "3.10.9"
  }
 },
 "nbformat": 4,
 "nbformat_minor": 5
}

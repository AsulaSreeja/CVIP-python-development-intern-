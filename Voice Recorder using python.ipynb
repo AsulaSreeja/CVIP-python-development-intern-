{
 "cells": [
  {
   "cell_type": "code",
   "execution_count": 10,
   "id": "b081e6df",
   "metadata": {
    "scrolled": true
   },
   "outputs": [
    {
     "name": "stdout",
     "output_type": "stream",
     "text": [
      "Requirement already satisfied: sounddevice in c:\\users\\asula\\anaconda3\\lib\\site-packages (0.4.6)Note: you may need to restart the kernel to use updated packages.\n",
      "\n",
      "Requirement already satisfied: CFFI>=1.0 in c:\\users\\asula\\anaconda3\\lib\\site-packages (from sounddevice) (1.15.1)\n",
      "Requirement already satisfied: pycparser in c:\\users\\asula\\anaconda3\\lib\\site-packages (from CFFI>=1.0->sounddevice) (2.21)\n"
     ]
    }
   ],
   "source": [
    "pip install sounddevice\n"
   ]
  },
  {
   "cell_type": "code",
   "execution_count": 11,
   "id": "e193697f",
   "metadata": {},
   "outputs": [
    {
     "name": "stdout",
     "output_type": "stream",
     "text": [
      "Requirement already satisfied: scipy in c:\\users\\asula\\anaconda3\\lib\\site-packages (1.10.0)Note: you may need to restart the kernel to use updated packages.\n",
      "\n",
      "Requirement already satisfied: numpy<1.27.0,>=1.19.5 in c:\\users\\asula\\anaconda3\\lib\\site-packages (from scipy) (1.23.5)\n"
     ]
    }
   ],
   "source": [
    "pip install scipy"
   ]
  },
  {
   "cell_type": "code",
   "execution_count": 12,
   "id": "08b629b1",
   "metadata": {},
   "outputs": [
    {
     "name": "stdout",
     "output_type": "stream",
     "text": [
      "Requirement already satisfied: wavio in c:\\users\\asula\\anaconda3\\lib\\site-packages (0.0.7)\n",
      "Requirement already satisfied: numpy>=1.19.0 in c:\\users\\asula\\anaconda3\\lib\\site-packages (from wavio) (1.23.5)\n",
      "Note: you may need to restart the kernel to use updated packages.\n"
     ]
    }
   ],
   "source": [
    "pip install wavio"
   ]
  },
  {
   "cell_type": "code",
   "execution_count": 13,
   "id": "79f3953f",
   "metadata": {},
   "outputs": [
    {
     "name": "stdout",
     "output_type": "stream",
     "text": [
      "Recording...\n",
      "Recording saved as recording_2023-09-08_19-58-24.wav\n"
     ]
    }
   ],
   "source": [
    "import sounddevice as sd\n",
    "import numpy as np\n",
    "import datetime\n",
    "\n",
    "# Parameters for recording\n",
    "duration = 5  # Recording duration in seconds\n",
    "sample_rate = 44100  # Sample rate (samples per second)\n",
    "\n",
    "# Start recording\n",
    "print(\"Recording...\")\n",
    "audio_data = sd.rec(int(duration * sample_rate), samplerate=sample_rate, channels=2)\n",
    "sd.wait()  # Wait for the recording to finish\n",
    "\n",
    "# Save recording to a WAV file\n",
    "filename = f\"recording_{datetime.datetime.now().strftime('%Y-%m-%d_%H-%M-%S')}.wav\"\n",
    "np.savetxt(filename, audio_data)\n",
    "\n",
    "print(f\"Recording saved as {filename}\")"
   ]
  },
  {
   "cell_type": "code",
   "execution_count": null,
   "id": "5000fa1c",
   "metadata": {},
   "outputs": [],
   "source": []
  },
  {
   "cell_type": "code",
   "execution_count": null,
   "id": "fa326172",
   "metadata": {},
   "outputs": [],
   "source": []
  }
 ],
 "metadata": {
  "kernelspec": {
   "display_name": "Python 3 (ipykernel)",
   "language": "python",
   "name": "python3"
  },
  "language_info": {
   "codemirror_mode": {
    "name": "ipython",
    "version": 3
   },
   "file_extension": ".py",
   "mimetype": "text/x-python",
   "name": "python",
   "nbconvert_exporter": "python",
   "pygments_lexer": "ipython3",
   "version": "3.10.9"
  }
 },
 "nbformat": 4,
 "nbformat_minor": 5
}
